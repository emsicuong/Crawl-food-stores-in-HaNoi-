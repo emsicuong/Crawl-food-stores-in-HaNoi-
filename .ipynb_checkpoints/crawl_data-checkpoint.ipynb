{
 "cells": [
  {
   "cell_type": "code",
   "execution_count": 5,
   "metadata": {},
   "outputs": [],
   "source": [
    "import time\n",
    "import requests\n",
    "import json\n",
    "import pymongo"
   ]
  },
  {
   "cell_type": "code",
   "execution_count": null,
   "metadata": {},
   "outputs": [],
   "source": [
    "myclient = pymongo.MongoClient(\"mongodb://localhost:27017/\")\n",
    "mydb = myclient[\"sic-crawl\"]\n",
    "mycol = mydb['lomart']"
   ]
  },
  {
   "cell_type": "code",
   "execution_count": 1,
   "metadata": {},
   "outputs": [],
   "source": [
    "def func_get_congigs_cities():\n",
    "    url = \"https://mocha.lozi.vn/v6.1/configs\"\n",
    "    payload = {}\n",
    "    headers = {\n",
    "    'accept': '*/*',\n",
    "    'accept-language': 'vi_VN',\n",
    "    'origin': 'https://loship.vn',\n",
    "    'priority': 'u=1, i',\n",
    "    'referer': 'https://loship.vn/',\n",
    "    'sec-ch-ua': '\"Not/A)Brand\";v=\"8\", \"Chromium\";v=\"126\", \"Google Chrome\";v=\"126\"',\n",
    "    'sec-ch-ua-mobile': '?0',\n",
    "    'sec-ch-ua-platform': '\"Windows\"',\n",
    "    'sec-fetch-dest': 'empty',\n",
    "    'sec-fetch-mode': 'cors',\n",
    "    'sec-fetch-site': 'cross-site',\n",
    "    'user-agent': 'Mozilla/5.0 (Windows NT 10.0; Win64; x64) AppleWebKit/537.36 (KHTML, like Gecko) Chrome/126.0.0.0 Safari/537.36',\n",
    "    'x-access-token': 'unknown',\n",
    "    'x-city-id': '50',\n",
    "    'x-language': 'vi',\n",
    "    'x-lozi-client': '1'\n",
    "    }\n",
    "    response = requests.request(\"GET\", url, headers=headers, data=payload)\n",
    "    data_json = json.loads(response.text)\n",
    "    return data_json['data']['shippingAdministrations']\n",
    "\n",
    "\n",
    "def func_get_congigs_countries():\n",
    "    url = \"https://mocha.lozi.vn/v6.1/configs\"\n",
    "    payload = {}\n",
    "    headers = {\n",
    "    'accept': '*/*',\n",
    "    'accept-language': 'vi_VN',\n",
    "    'origin': 'https://loship.vn',\n",
    "    'priority': 'u=1, i',\n",
    "    'referer': 'https://loship.vn/',\n",
    "    'sec-ch-ua': '\"Not/A)Brand\";v=\"8\", \"Chromium\";v=\"126\", \"Google Chrome\";v=\"126\"',\n",
    "    'sec-ch-ua-mobile': '?0',\n",
    "    'sec-ch-ua-platform': '\"Windows\"',\n",
    "    'sec-fetch-dest': 'empty',\n",
    "    'sec-fetch-mode': 'cors',\n",
    "    'sec-fetch-site': 'cross-site',\n",
    "    'user-agent': 'Mozilla/5.0 (Windows NT 10.0; Win64; x64) AppleWebKit/537.36 (KHTML, like Gecko) Chrome/126.0.0.0 Safari/537.36',\n",
    "    'x-access-token': 'unknown',\n",
    "    'x-city-id': '50',\n",
    "    'x-language': 'vi',\n",
    "    'x-lozi-client': '1'\n",
    "    }\n",
    "    response = requests.request(\"GET\", url, headers=headers, data=payload)\n",
    "    data_json = json.loads(response.text)\n",
    "    return data_json['data']['countries']\n",
    "\n",
    "\n",
    "def func_get_cates_from_cityid(cityId=50):\n",
    "    url = f\"https://mocha.lozi.vn/v6.1/categories?superCategoryId=1&cityId={cityId}\"\n",
    "\n",
    "    payload = {}\n",
    "    headers = {\n",
    "    'accept': '*/*',\n",
    "    'accept-language': 'vi_VN',\n",
    "    'origin': 'https://loship.vn',\n",
    "    'priority': 'u=1, i',\n",
    "    'referer': 'https://loship.vn/',\n",
    "    'sec-ch-ua': '\"Not/A)Brand\";v=\"8\", \"Chromium\";v=\"126\", \"Google Chrome\";v=\"126\"',\n",
    "    'sec-ch-ua-mobile': '?0',\n",
    "    'sec-ch-ua-platform': '\"Windows\"',\n",
    "    'sec-fetch-dest': 'empty',\n",
    "    'sec-fetch-mode': 'cors',\n",
    "    'sec-fetch-site': 'cross-site',\n",
    "    'user-agent': 'Mozilla/5.0 (Windows NT 10.0; Win64; x64) AppleWebKit/537.36 (KHTML, like Gecko) Chrome/126.0.0.0 Safari/537.36',\n",
    "    'x-access-token': 'unknown',\n",
    "    'x-city-id': '50',\n",
    "    'x-lozi-client': '1'\n",
    "    }\n",
    "\n",
    "    response = requests.request(\"GET\", url, headers=headers, data=payload)\n",
    "\n",
    "    data_json = json.loads(response.text)\n",
    "    return data_json['data']"
   ]
  },
  {
   "cell_type": "code",
   "execution_count": 2,
   "metadata": {},
   "outputs": [],
   "source": [
    "def get_shop_info_summary(categoriesID, cityId, page, limit=24):\n",
    "    url = f\"https://mocha.lozi.vn/v6.1/search/eateries?categories={categoriesID}&limit={limit}&page={page}&superCategoryId=1&cityId={cityId}\"\n",
    "\n",
    "    payload = {}\n",
    "    headers = {\n",
    "    'accept': '*/*',\n",
    "    'accept-language': 'vi_VN',\n",
    "    'origin': 'https://loship.vn',\n",
    "    'priority': 'u=1, i',\n",
    "    'referer': 'https://loship.vn/',\n",
    "    'sec-ch-ua': '\"Not/A)Brand\";v=\"8\", \"Chromium\";v=\"126\", \"Google Chrome\";v=\"126\"',\n",
    "    'sec-ch-ua-mobile': '?0',\n",
    "    'sec-ch-ua-platform': '\"Windows\"',\n",
    "    'sec-fetch-dest': 'empty',\n",
    "    'sec-fetch-mode': 'cors',\n",
    "    'sec-fetch-site': 'cross-site',\n",
    "    'user-agent': 'Mozilla/5.0 (Windows NT 10.0; Win64; x64) AppleWebKit/537.36 (KHTML, like Gecko) Chrome/126.0.0.0 Safari/537.36',\n",
    "    'x-access-token': 'unknown',\n",
    "    'x-city-id': '1',\n",
    "    'x-lozi-client': '1'\n",
    "    }\n",
    "\n",
    "    response = requests.request(\"GET\", url, headers=headers, data=payload)\n",
    "\n",
    "    data_json = json.loads(response.text)\n",
    "    return data_json['data'], data_json['pagination']"
   ]
  },
  {
   "cell_type": "code",
   "execution_count": 6,
   "metadata": {},
   "outputs": [
    {
     "data": {
      "text/plain": [
       "{'total': 1844,\n",
       " 'page': 1,\n",
       " 'limit': 24,\n",
       " 'nextUrl': '/search/eateries?superCategoryId=1&page=2&limit=24&q=&cityId=50&districtIds=&lat=0.000000&lng=0.000000&categories=1168&chainId=&sorts=&filters='}"
      ]
     },
     "execution_count": 6,
     "metadata": {},
     "output_type": "execute_result"
    }
   ],
   "source": [
    "data_shop, data_pages = get_shop_info_summary(categoriesID=1168, cityId=50, page=1, limit=24)\n",
    "pages = data_pages['total']//data_pages['limit'] + 1\n",
    "data_pages"
   ]
  },
  {
   "cell_type": "code",
   "execution_count": null,
   "metadata": {},
   "outputs": [],
   "source": [
    "def get_shop_full_info(slug):\n",
    "  url = f\"https://latte.lozi.vn/v1.2/eateries/slug:{slug}\"\n",
    "\n",
    "  payload = {}\n",
    "  headers = {\n",
    "    'accept': '*/*',\n",
    "    'accept-language': 'vi_VN',\n",
    "    'origin': 'https://loship.vn',\n",
    "    'priority': 'u=1, i',\n",
    "    'referer': 'https://loship.vn/',\n",
    "    'sec-ch-ua': '\"Not/A)Brand\";v=\"8\", \"Chromium\";v=\"126\", \"Google Chrome\";v=\"126\"',\n",
    "    'sec-ch-ua-mobile': '?0',\n",
    "    'sec-ch-ua-platform': '\"Windows\"',\n",
    "    'sec-fetch-dest': 'empty',\n",
    "    'sec-fetch-mode': 'cors',\n",
    "    'sec-fetch-site': 'cross-site',\n",
    "    'user-agent': 'Mozilla/5.0 (Windows NT 10.0; Win64; x64) AppleWebKit/537.36 (KHTML, like Gecko) Chrome/126.0.0.0 Safari/537.36',\n",
    "    'x-access-token': 'unknown',\n",
    "    'x-city-id': '50',\n",
    "    'x-lozi-client': '1'\n",
    "  }\n",
    "\n",
    "  response = requests.request(\"GET\", url, headers=headers, data=payload)\n",
    "\n",
    "  data_json = json.loads(response.text)\n",
    "  return data_json['data']\n"
   ]
  },
  {
   "cell_type": "code",
   "execution_count": null,
   "metadata": {},
   "outputs": [],
   "source": [
    "def get_menu(slug):\n",
    "    url = \"https://mocha.lozi.vn/v6.1/eateries/slug:{slug}/menu\"\n",
    "\n",
    "    payload = {}\n",
    "    headers = {\n",
    "    'accept': '*/*',\n",
    "    'accept-language': 'vi_VN',\n",
    "    'origin': 'https://loship.vn',\n",
    "    'priority': 'u=1, i',\n",
    "    'referer': 'https://loship.vn/',\n",
    "    'sec-ch-ua': '\"Not/A)Brand\";v=\"8\", \"Chromium\";v=\"126\", \"Google Chrome\";v=\"126\"',\n",
    "    'sec-ch-ua-mobile': '?0',\n",
    "    'sec-ch-ua-platform': '\"Windows\"',\n",
    "    'sec-fetch-dest': 'empty',\n",
    "    'sec-fetch-mode': 'cors',\n",
    "    'sec-fetch-site': 'cross-site',\n",
    "    'user-agent': 'Mozilla/5.0 (Windows NT 10.0; Win64; x64) AppleWebKit/537.36 (KHTML, like Gecko) Chrome/126.0.0.0 Safari/537.36',\n",
    "    'x-access-token': 'unknown',\n",
    "    'x-city-id': '50',\n",
    "    'x-language': 'vi',\n",
    "    'x-lozi-client': '1'\n",
    "    }\n",
    "\n",
    "    response = requests.request(\"GET\", url, headers=headers, data=payload)\n",
    "    data_json = json.loads(response.text)\n",
    "    return data_json['data']\n",
    "menu = get_menu(slug = \"an-beo-bun-hai-san-hang-voi-quan-hoan-kiem-ha-noi-1611865587163270295\")\n",
    "menu"
   ]
  },
  {
   "cell_type": "code",
   "execution_count": null,
   "metadata": {},
   "outputs": [],
   "source": []
  }
 ],
 "metadata": {
  "kernelspec": {
   "display_name": "Python 3 (ipykernel)",
   "language": "python",
   "name": "python3"
  },
  "language_info": {
   "codemirror_mode": {
    "name": "ipython",
    "version": 3
   },
   "file_extension": ".py",
   "mimetype": "text/x-python",
   "name": "python",
   "nbconvert_exporter": "python",
   "pygments_lexer": "ipython3",
   "version": "3.10.11"
  },
  "vscode": {
   "interpreter": {
    "hash": "9deea79bfd8769c20cdb41e577c31349975f53057f7c4a88718c49dab3f025eb"
   }
  }
 },
 "nbformat": 4,
 "nbformat_minor": 2
}
